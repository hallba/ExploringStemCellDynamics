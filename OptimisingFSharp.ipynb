{
 "cells": [
  {
   "cell_type": "markdown",
   "metadata": {},
   "source": [
    "# Optimising functions in F# #\n",
    "\n",
    "This is an appendix to the main F# notebook, concerning writing an optimised [2-sample KS test](https://en.wikipedia.org/wiki/Kolmogorov%E2%80%93Smirnov_test). It is complete, but the aim here is to describe what was done, what worked (and what did not), and to highlight some features of the language that can be used to improve performance.\n",
    "\n",
    "The fundamental loop here was\n",
    "\n",
    "1. Benchmark the function\n",
    "2. Benchmark lines in the function to see where most of the work is done\n",
    "3. Replace lines and goto 1.\n",
    "\n",
    "There are not many references for optimising F# code, particularly for programmers who do not have a deep understanding of underpinning features of the language/compiler. However, I strongly recommend [F# for scientists](https://dl.acm.org/citation.cfm?id=1481410) as its description on the process of considering different aspects of optimising scientfic code. Additionally, the [F# journal](http://www.ffconsultancy.com/products/fsharp_journal/), has a number of articles that touch on optimisation and specifically the [Quicksort](http://www.ffconsultancy.com/products/fsharp_journal/subscribers/quicksort.html) article gives an excellent description of language features."
   ]
  },
  {
   "cell_type": "code",
   "execution_count": 3,
   "metadata": {
    "collapsed": true
   },
   "outputs": [],
   "source": [
    "//This is where your python 3.5 install is.\n",
    "//Macports on a mac may install it at /opt/local/Library/Frameworks/Python.framework/Versions/3.5/\n",
    "let pythonPath = @\"C:\\Users\\bh418\\AppData\\Local\\Programs\\Python\\Python35\\\"\n",
    "//This is where your notebook is. This cannot be found automatically and is needed to find the supplied experimental data\n",
    "let dataLocation= sprintf \"%s/\" (System.IO.Directory.GetCurrentDirectory ()) "
   ]
  },
  {
   "cell_type": "code",
   "execution_count": 4,
   "metadata": {
    "collapsed": true
   },
   "outputs": [],
   "source": [
    "open System\n",
    "#load \"Paket.fsx\"\n",
    "Paket.Package\n",
    "  [ \"MathNet.Numerics\"\n",
    "    \"MathNet.Numerics.FSharp\"\n",
    "    \"FSharp.Data\"\n",
    "    \"Accord\"\n",
    "    \"Accord.Statistics\"\n",
    "    \"Accord.Math\"\n",
    "    \"pythonnet\"\n",
    "    \"FSharp.Interop.Dynamic\"\n",
    "  ]\n",
    "#load \"Paket.Generated.Refs.fsx\"\n",
    "open Python.Runtime\n",
    "open FSharp.Interop.Dynamic\n",
    "open System.Collections.Generic\n",
    "\n",
    "//Set a few additional variables that depend on both libraries being loaded and machine specific variables\n",
    "let pythonLib = pythonPath + @\"\\lib\"\n",
    "let path' = pythonPath + \";\" + Environment.GetEnvironmentVariable(\"PATH\")\n",
    "Environment.SetEnvironmentVariable(\"PATH\", path')\n",
    "Environment.SetEnvironmentVariable(\"PYTHONHOME\", pythonPath)\n",
    "Environment.SetEnvironmentVariable(\"PYTHONPATH \", pythonLib)"
   ]
  },
  {
   "cell_type": "code",
   "execution_count": 5,
   "metadata": {
    "collapsed": true
   },
   "outputs": [],
   "source": [
    "let timeIt f =\n",
    "   let proc = System.Diagnostics.Process.GetCurrentProcess()\n",
    "   let stopWatch = System.Diagnostics.Stopwatch.StartNew()\n",
    "   let t = proc.TotalProcessorTime\n",
    "   let result = f ()\n",
    "   let dt = proc.TotalProcessorTime-t\n",
    "   stopWatch.Stop()\n",
    "   printfn \"Wall: %fms CPU: %fms\" stopWatch.Elapsed.TotalMilliseconds dt.TotalMilliseconds\n",
    "   result\n",
    "\n",
    "let timeStore r f =\n",
    "  let proc = System.Diagnostics.Process.GetCurrentProcess()\n",
    "  let stopWatch = System.Diagnostics.Stopwatch.StartNew()\n",
    "  let result = f ()\n",
    "  stopWatch.Stop()\n",
    "  r := !r + stopWatch.Elapsed.TotalMilliseconds\n",
    "  result"
   ]
  },
  {
   "cell_type": "markdown",
   "metadata": {},
   "source": [
    "## Data for benchmarking\n",
    "\n",
    "As in the previous notebook we read in the experimental data. Alongside this we also generate some simulated datasets for testing, using a normally distributed random numbers around different means (*fakeData1* and *fakeData2*)."
   ]
  },
  {
   "cell_type": "code",
   "execution_count": 6,
   "metadata": {
    "collapsed": true
   },
   "outputs": [],
   "source": [
    "let getVal s = if s = \"\" then nan else float s\n",
    "\n",
    "let readData (filename: string) count = \n",
    "    let raw = FSharp.Data.CsvFile.Load(filename)\n",
    "    let a = raw.Rows |> Array.ofSeq \n",
    "    Array.init (count*(Array.length a)) (fun i -> getVal a.[i/count].[i%count] ) |> Array.filter (fun a ->  not (Double.IsNaN(a)) )\n",
    "\n",
    "let i0File = dataLocation + \"eso_0day.txt\"\n",
    "\n",
    "let i0 = readData i0File 3\n",
    "\n",
    "let measurements = Array.map (fun (f,c) -> readData f c) [|\n",
    "                                                            (dataLocation + \"eso_7day.txt\",3);\n",
    "                                                            (dataLocation + \"eso_12day.txt\",3);\n",
    "                                                            (dataLocation + \"eso_18day.txt\",2);\n",
    "                                                            |]\n",
    "                 |> Array.map (fun m -> Array.map (fun i -> Math.Log(i,2.) ) m)"
   ]
  },
  {
   "cell_type": "code",
   "execution_count": 7,
   "metadata": {
    "collapsed": true
   },
   "outputs": [],
   "source": [
    "let fakeDataGenerate rng mean sd = \n",
    "    Array.init 1000 (fun _ -> MathNet.Numerics.Distributions.Normal.Sample(rng,mean,sd) )\n",
    "\n",
    "let rng = System.Random(2020)\n",
    "let fakeData1 = Array.init 100 (fun _ -> Array.init 3 (fun _ -> fakeDataGenerate rng 0. 1.) )\n",
    "let fakeData2 = Array.init 100 (fun _ -> Array.init 3 (fun _ -> fakeDataGenerate rng 0. 2.) )"
   ]
  },
  {
   "cell_type": "markdown",
   "metadata": {},
   "source": [
    "# Original functions"
   ]
  },
  {
   "cell_type": "code",
   "execution_count": 8,
   "metadata": {
    "collapsed": true
   },
   "outputs": [],
   "source": [
    "let distance (summStat: 'a [] -> 'a [] -> float) sim measurements = \n",
    "    Array.map2 (fun s o -> summStat s o )  sim measurements\n",
    "    |> Array.sum\n",
    "    \n",
    "let ksSummStat s o =\n",
    "    Accord.Statistics.Testing.TwoSampleKolmogorovSmirnovTest(s,o).Statistic\n",
    "    \n",
    "let (scipyKS: float [] -> float [] -> float)  =\n",
    "    let SeqToPyFloat ( aSeq : float seq ) =\n",
    "            let list = new Python.Runtime.PyList()\n",
    "            aSeq |> Seq.iter( fun x -> list.Append( new PyFloat(x)))\n",
    "            list\n",
    "    PythonEngine.Initialize()\n",
    "    ignore <| PythonEngine.BeginAllowThreads()\n",
    "    fun a b ->\n",
    "        //use gil = Py.GIL()\n",
    "        let token = PythonEngine.AcquireLock ()\n",
    "        let spstats = Py.Import(\"scipy.stats\")\n",
    "        let np = Py.Import(\"numpy\")\n",
    "        let npa = np?array( a  |> SeqToPyFloat )\n",
    "        let npb = np?array( b  |> SeqToPyFloat )\n",
    "        let r = spstats?ks_2samp(npa,npb)\n",
    "        let result = r?statistic?item() : float\n",
    "        PythonEngine.ReleaseLock token\n",
    "        result"
   ]
  },
  {
   "cell_type": "code",
   "execution_count": 9,
   "metadata": {
    "collapsed": true
   },
   "outputs": [],
   "source": [
    "let inline findPositionTS cmp (someArray: _ []) value =\n",
    "   let rec find lower upper  =\n",
    "       if lower<upper then\n",
    "           let div = lower + ((upper-lower) >>> 1)\n",
    "           let found = someArray.[div]\n",
    "           if cmp found value > 0 then\n",
    "               find lower div\n",
    "           else\n",
    "               find (div+1) upper\n",
    "       else\n",
    "           lower\n",
    "   find 0 (Array.length someArray)\n",
    "\n",
    "let inline kscdfTS' cmp (small1: _ []) (small2: _ []) (big: _ []) = \n",
    "    let mutable max =  0.\n",
    "    Array.iter (fun e -> \n",
    "        let temp = abs((findPositionTS cmp small1 e |> fun s -> float(s)/float((Array.length small1))) - (findPositionTS cmp small2 e |> fun s -> float(s)/float((Array.length small2))))\n",
    "        if temp > max then max <- temp\n",
    "        )  big \n",
    "    max\n",
    "\n",
    "let inline simplifiedKS cmp s o =\n",
    "    let data1 = Array.sort s //1%\n",
    "    let data2 = Array.sort o\n",
    "    let dataAll = Array.append data1 data2 //0.1%\n",
    "    kscdfTS' cmp data1 data2 dataAll"
   ]
  },
  {
   "cell_type": "markdown",
   "metadata": {},
   "source": [
    "## Initial benchmarks\n",
    "\n",
    "These benchmarks demonstrate the issue in our  to 50 times as long"
   ]
  },
  {
   "cell_type": "code",
   "execution_count": 10,
   "metadata": {},
   "outputs": [
    {
     "data": {
      "text/plain": [
       "Accord KS calculation\n",
       "Wall: 16625.516300ms CPU: 16453.125000ms\r\n",
       "Wall: 2893.382100ms CPU: 2875.000000ms\r\n",
       "Scipy KS calculation\n",
       "Wall: 4284.953400ms CPU: 1687.500000ms\r\n",
       "Wall: 581.243800ms CPU: 609.375000ms\r\n"
      ]
     },
     "metadata": {},
     "output_type": "display_data"
    }
   ],
   "source": [
    "printf \"Accord KS calculation\\n\"\n",
    "timeIt <| fun _ -> ignore <| Array.init 100 (fun _ ->  distance ksSummStat measurements measurements)\n",
    "\n",
    "timeIt <| fun _ -> for i = 0 to 99 do\n",
    "                        ignore <| distance ksSummStat fakeData1.[i] fakeData2.[i]\n",
    "\n",
    "printf \"Scipy KS calculation\\n\"\n",
    "timeIt <| fun _ -> ignore <| Array.init 100 (fun _ ->  distance scipyKS measurements measurements)\n",
    "\n",
    "timeIt <| fun _ -> for i = 0 to 99 do\n",
    "                        ignore <| distance scipyKS fakeData1.[i] fakeData2.[i]\n"
   ]
  },
  {
   "cell_type": "markdown",
   "metadata": {},
   "source": [
    "# Writing a KS test\n",
    "\n",
    "Given the performance difference, one obvious solution might be to just use scipy through F#. However, this was suboptimal as running the scipy ks test safely in a multithreaded way is tricky. \n",
    "\n",
    "The [algorithm](https://en.wikipedia.org/wiki/Kolmogorov%E2%80%93Smirnov_test#Two-sample_Kolmogorov%E2%80%93Smirnov_test) we looked to implement takes two unsorted arrays as input\n",
    "\n",
    "1. Sort the arrays\n",
    "2. Calculate the the empirical distribution functions of each array\n",
    "3. Calculate the differences between the empirical distribution functions\n",
    "4. Find the maximum absolute difference between the two EDFs, and return as the KS statistic\n",
    "\n",
    "To calculate the empirical distribution function of one sorted array of data relative to another\n",
    "\n",
    "1. For each element of one array, find the index of the second array where the element could be inserted without breaking the sort\n",
    "2. Divide the value by the length of the second array\n",
    "\n",
    "Our first version uses a naive implementation of the process of finding the insertion position"
   ]
  },
  {
   "cell_type": "code",
   "execution_count": 11,
   "metadata": {
    "collapsed": true
   },
   "outputs": [],
   "source": [
    "let findPosition someArray value =\n",
    "    //Find the location to insert the value without breaking the sort\n",
    "    try \n",
    "        Array.findIndex (fun e -> e>value) someArray\n",
    "    with \n",
    "        _ -> (Array.length someArray) \n",
    "\n",
    "let cdfDifference a b = \n",
    "    let aLen = Array.length a |> float\n",
    "    let bLen = Array.length b |> float\n",
    "    Array.mapi (fun i e ->  findPosition a e \n",
    "                            |> fun s -> abs ( float(s)/aLen - float(i+1)/bLen) \n",
    "                            )  b\n",
    "\n",
    "let simplifiedKS s o =\n",
    "    let data1 = Array.sort s\n",
    "    let data2 = Array.sort o\n",
    "    let max1 = cdfDifference data1 data2 |> Array.max\n",
    "    let max2 = cdfDifference data2 data1 |> Array.max\n",
    "    if max1 > max2 then max1 else max2"
   ]
  },
  {
   "cell_type": "code",
   "execution_count": 12,
   "metadata": {},
   "outputs": [
    {
     "data": {
      "text/plain": [
       "Accord: 0.960469\n",
       "scipy:  0.960469\n",
       "Local:  0.960469\n"
      ]
     },
     "metadata": {},
     "output_type": "display_data"
    }
   ],
   "source": [
    "printf \"Accord: %f\\n\" <| ksSummStat measurements.[0] measurements.[1]\n",
    "printf \"scipy:  %f\\n\" <| scipyKS measurements.[0] measurements.[1]\n",
    "printf \"Local:  %f\\n\" <| simplifiedKS measurements.[0] measurements.[1]"
   ]
  },
  {
   "cell_type": "code",
   "execution_count": 13,
   "metadata": {},
   "outputs": [
    {
     "data": {
      "text/plain": [
       "Accord KS calculation\n",
       "Wall: 16018.786400ms CPU: 16250.000000ms\r\n",
       "Wall: 2780.799500ms CPU: 2781.250000ms\r\n",
       "Scipy KS calculation\n",
       "Wall: 748.678100ms CPU: 843.750000ms\r\n",
       "Wall: 484.341300ms CPU: 531.250000ms\r\n",
       "Local KS calculation\n",
       "Wall: 67644.073000ms CPU: 68062.500000ms\r\n",
       "Wall: 11009.406300ms CPU: 10812.500000ms\r\n"
      ]
     },
     "metadata": {},
     "output_type": "display_data"
    }
   ],
   "source": [
    "printf \"Accord KS calculation\\n\"\n",
    "timeIt <| fun _ -> ignore <| Array.init 100 (fun _ ->  distance ksSummStat measurements measurements)\n",
    "\n",
    "timeIt <| fun _ -> for i = 0 to 99 do\n",
    "                        ignore <| distance ksSummStat fakeData1.[i] fakeData2.[i]\n",
    "\n",
    "printf \"Scipy KS calculation\\n\"\n",
    "timeIt <| fun _ -> ignore <| Array.init 100 (fun _ ->  distance scipyKS measurements measurements)\n",
    "\n",
    "timeIt <| fun _ -> for i = 0 to 99 do\n",
    "                        ignore <| distance scipyKS fakeData1.[i] fakeData2.[i]\n",
    "\n",
    "printf \"Local KS calculation\\n\"\n",
    "timeIt <| fun _ -> ignore <| Array.init 100 (fun _ ->  distance simplifiedKS measurements measurements)\n",
    "\n",
    "timeIt <| fun _ -> for i = 0 to 99 do\n",
    "                        ignore <| distance simplifiedKS fakeData1.[i] fakeData2.[i]\n"
   ]
  },
  {
   "cell_type": "markdown",
   "metadata": {},
   "source": [
    "# The new function is 10x slower!\n",
    "\n",
    "Not a great start! This is however perhaps not surprising as we have simply picked the easily available functions that work. To find out where the function is spending its time we can use the timeStore function defined above with a modified version of the function. We store the time taken taken to sort the arrays and time taken to calculate the cdf to find where the bottleneck is."
   ]
  },
  {
   "cell_type": "code",
   "execution_count": 14,
   "metadata": {},
   "outputs": [
    {
     "data": {
      "text/plain": [
       "Wall: 62122.468900ms CPU: 61453.125000ms\r\n",
       "sort: 67.309800\t cdf: 62050.148300\n"
      ]
     },
     "metadata": {},
     "output_type": "display_data"
    }
   ],
   "source": [
    "let sortTime = ref 0.\n",
    "let cdfTime = ref 0.\n",
    "\n",
    "let simplifiedKSTimed s o =\n",
    "    let data1 = timeStore sortTime (fun _ -> Array.sort s)\n",
    "    let data2 = timeStore sortTime (fun _ -> Array.sort o)\n",
    "    let max1 = timeStore cdfTime (fun _ -> cdfDifference data1 data2 |> Array.max)\n",
    "    let max2 = timeStore cdfTime (fun _ -> cdfDifference data2 data1 |> Array.max)\n",
    "    if max1 > max2 then max1 else max2\n",
    "    \n",
    "timeIt <| fun _ -> ignore <| Array.init 100 (fun _ ->  distance simplifiedKSTimed measurements measurements)\n",
    "printf \"sort: %f\\t cdf: %f\\n\" !sortTime !cdfTime"
   ]
  },
  {
   "cell_type": "markdown",
   "metadata": {},
   "source": [
    "# Bottleneck: calculating the empirical CDF\n",
    "\n",
    "Almost the entire time is spent calculating CDFs, so replacing the findPosition function is the first feature to optimise. A binary search would be faster so an initial replacement *findPosition* is written based on that.\n",
    "\n",
    "Our first implementation uses an internal recursive loop to search through the list by iteratively selecting smaller bounds until either we are examining two adjacent integers, or the value midway between the bounds is equal to the target. If these conditions are made an index is returned. Alternatively, depending on whether the midway value is higher or lower than the input value we replace either the lower or upper index with the midway index and restart the loop."
   ]
  },
  {
   "cell_type": "code",
   "execution_count": 15,
   "metadata": {
    "collapsed": true
   },
   "outputs": [],
   "source": [
    "let findPosition (someArray: 'a []) value =\n",
    "    let rec find lower upper  =\n",
    "        let dt = (upper-lower)/2\n",
    "        let div = dt + lower\n",
    "        if dt = 0 then \n",
    "            if someArray.[div]<value then div+1 else div\n",
    "        elif someArray.[div] = value then div + 1\n",
    "        elif someArray.[div] > value then find lower div \n",
    "        else find div upper \n",
    "    find 0 (Array.length someArray) \n",
    "    \n",
    "let cdfDifference a b = \n",
    "    let aLen = Array.length a |> float\n",
    "    let bLen = Array.length b |> float\n",
    "    Array.mapi (fun i e ->  findPosition a e \n",
    "                            |> fun s -> abs ( float(s)/aLen - float(i+1)/bLen) \n",
    "                            )  b\n",
    "\n",
    "let simplifiedKS s o =\n",
    "    let data1 = Array.sort s\n",
    "    let data2 = Array.sort o\n",
    "    let max1 = cdfDifference data1 data2 |> Array.max\n",
    "    let max2 = cdfDifference data2 data1 |> Array.max\n",
    "    if max1 > max2 then max1 else max2"
   ]
  },
  {
   "cell_type": "code",
   "execution_count": 16,
   "metadata": {},
   "outputs": [
    {
     "data": {
      "text/plain": [
       "Accord KS calculation\n",
       "Wall: 16524.745000ms CPU: 16437.500000ms\r\n",
       "Wall: 2978.598900ms CPU: 2968.750000ms\r\n",
       "Scipy KS calculation\n",
       "Wall: 754.365900ms CPU: 828.125000ms\r\n",
       "Wall: 549.742300ms CPU: 703.125000ms\r\n",
       "Local KS calculation\n",
       "Wall: 6453.394800ms CPU: 7062.500000ms\r\n",
       "Wall: 440.195600ms CPU: 453.125000ms\r\n"
      ]
     },
     "metadata": {},
     "output_type": "display_data"
    }
   ],
   "source": [
    "printf \"Accord KS calculation\\n\"\n",
    "timeIt <| fun _ -> ignore <| Array.init 100 (fun _ ->  distance ksSummStat measurements measurements)\n",
    "\n",
    "timeIt <| fun _ -> for i = 0 to 99 do\n",
    "                        ignore <| distance ksSummStat fakeData1.[i] fakeData2.[i]\n",
    "\n",
    "printf \"Scipy KS calculation\\n\"\n",
    "timeIt <| fun _ -> ignore <| Array.init 100 (fun _ ->  distance scipyKS measurements measurements)\n",
    "\n",
    "timeIt <| fun _ -> for i = 0 to 99 do\n",
    "                        ignore <| distance scipyKS fakeData1.[i] fakeData2.[i]\n",
    "\n",
    "printf \"Local KS calculation\\n\"\n",
    "timeIt <| fun _ -> ignore <| Array.init 100 (fun _ ->  distance simplifiedKS measurements measurements)\n",
    "\n",
    "timeIt <| fun _ -> for i = 0 to 99 do\n",
    "                        ignore <| distance simplifiedKS fakeData1.[i] fakeData2.[i]"
   ]
  },
  {
   "cell_type": "code",
   "execution_count": 17,
   "metadata": {},
   "outputs": [
    {
     "data": {
      "text/plain": [
       "Accord: 0.960469\n",
       "scipy:  0.960469\n",
       "Local:  0.960469\n"
      ]
     },
     "metadata": {},
     "output_type": "display_data"
    }
   ],
   "source": [
    "printf \"Accord: %f\\n\" <| ksSummStat measurements.[0] measurements.[1]\n",
    "printf \"scipy:  %f\\n\" <| scipyKS measurements.[0] measurements.[1]\n",
    "printf \"Local:  %f\\n\" <| simplifiedKS measurements.[0] measurements.[1]"
   ]
  },
  {
   "cell_type": "markdown",
   "metadata": {},
   "source": [
    "# Writing a more compact *findPosition*\n",
    "\n",
    "The new findPosition *is* correct for our simple test, and now faster than the Accord function, but still substantially slower than scipy. Can we improve on that by simplifying the code? A short rewrite can reduce the number of variables created and possibly offer some additional speed.\n",
    "\n",
    "Now we test if upper and lower are equal once per loop- if they are equal we return their value. In the rest of the loop we find the midway index, and update the bounds as above based on a comparison with the input value."
   ]
  },
  {
   "cell_type": "code",
   "execution_count": 18,
   "metadata": {
    "collapsed": true
   },
   "outputs": [],
   "source": [
    "let findPosition (someArray: 'a []) value =\n",
    "    let rec find lower upper  =\n",
    "        if lower=upper then upper else\n",
    "            let div = (upper-lower)/2 + lower    \n",
    "            if someArray.[div] > value then find lower div \n",
    "            else find (div+1) upper \n",
    "    find 0 (Array.length someArray) \n",
    "    \n",
    "let cdfDifference a b = \n",
    "    let aLen = Array.length a |> float\n",
    "    let bLen = Array.length b |> float\n",
    "    Array.mapi (fun i e ->  findPosition a e \n",
    "                            |> fun s -> abs ( float(s)/aLen - float(i+1)/bLen) \n",
    "                            )  b\n",
    "\n",
    "let simplifiedKS s o =\n",
    "    let data1 = Array.sort s\n",
    "    let data2 = Array.sort o\n",
    "    let max1 = cdfDifference data1 data2 |> Array.max\n",
    "    let max2 = cdfDifference data2 data1 |> Array.max\n",
    "    if max1 > max2 then max1 else max2"
   ]
  },
  {
   "cell_type": "code",
   "execution_count": 19,
   "metadata": {},
   "outputs": [
    {
     "data": {
      "text/plain": [
       "Accord KS calculation\n",
       "Wall: 15677.636900ms CPU: 15671.875000ms\r\n",
       "Wall: 2829.169600ms CPU: 2828.125000ms\r\n",
       "Scipy KS calculation\n",
       "Wall: 727.505200ms CPU: 828.125000ms\r\n",
       "Wall: 490.260500ms CPU: 546.875000ms\r\n",
       "Local KS calculation\n",
       "Wall: 5893.325100ms CPU: 6687.500000ms\r\n",
       "Wall: 327.718500ms CPU: 406.250000ms\r\n"
      ]
     },
     "metadata": {},
     "output_type": "display_data"
    }
   ],
   "source": [
    "printf \"Accord KS calculation\\n\"\n",
    "timeIt <| fun _ -> ignore <| Array.init 100 (fun _ ->  distance ksSummStat measurements measurements)\n",
    "\n",
    "timeIt <| fun _ -> for i = 0 to 99 do\n",
    "                        ignore <| distance ksSummStat fakeData1.[i] fakeData2.[i]\n",
    "\n",
    "printf \"Scipy KS calculation\\n\"\n",
    "timeIt <| fun _ -> ignore <| Array.init 100 (fun _ ->  distance scipyKS measurements measurements)\n",
    "\n",
    "timeIt <| fun _ -> for i = 0 to 99 do\n",
    "                        ignore <| distance scipyKS fakeData1.[i] fakeData2.[i]\n",
    "\n",
    "printf \"Local KS calculation\\n\"\n",
    "timeIt <| fun _ -> ignore <| Array.init 100 (fun _ ->  distance simplifiedKS measurements measurements)\n",
    "\n",
    "timeIt <| fun _ -> for i = 0 to 99 do\n",
    "                        ignore <| distance simplifiedKS fakeData1.[i] fakeData2.[i]"
   ]
  },
  {
   "cell_type": "code",
   "execution_count": 20,
   "metadata": {},
   "outputs": [
    {
     "data": {
      "text/plain": [
       "Accord: 0.960469\n",
       "scipy:  0.960469\n",
       "Local:  0.960469\n"
      ]
     },
     "metadata": {},
     "output_type": "display_data"
    }
   ],
   "source": [
    "printf \"Accord: %f\\n\" <| ksSummStat measurements.[0] measurements.[1]\n",
    "printf \"scipy:  %f\\n\" <| scipyKS measurements.[0] measurements.[1]\n",
    "printf \"Local:  %f\\n\" <| simplifiedKS measurements.[0] measurements.[1]"
   ]
  },
  {
   "cell_type": "markdown",
   "metadata": {},
   "source": [
    "## Tree based approach\n",
    "\n",
    "One alternative approach I explored was to convert the array to a tree structure and search this. The performance (see below) was not good, and I abandoned it ultimately. However, it did raise an interesting performance trade-off. Constructing the tree was too slow for this to be useful, though searching was fast. In our situation however, we reuse one set of arrays repeatedly- the experimental observations. In principle, it may be possible to get a further improvement in speed based on calculating the tree once for the experimental observations and repeatedly using this search approach, whilst using a traditional approach for simulated data. Here we have included the tree based code for general interest."
   ]
  },
  {
   "cell_type": "code",
   "execution_count": 21,
   "metadata": {
    "collapsed": true
   },
   "outputs": [],
   "source": [
    "type locationLookup<'a> = Leaf of int | Node of (locationLookup<'a>*'a*locationLookup<'a>)\n",
    "\n",
    "let createLookup someArray = \n",
    "    let rec core (a: _ []) lower upper = \n",
    "        if upper=lower then Leaf(upper) else\n",
    "            let div = (upper-lower)/2 + lower\n",
    "            let value = a.[div]\n",
    "            let left = core a lower div\n",
    "            let right = core a (div+1) upper\n",
    "            Node(left,value,right)\n",
    "    core someArray 0 (Array.length someArray)\n",
    "    \n",
    "let rec lookup lookupTree value =\n",
    "    match lookupTree with \n",
    "    | Leaf(i) -> i\n",
    "    | Node(l,v,r) -> if value >= v then lookup r value else lookup l value\n",
    "\n",
    "let findPosition (someArray: 'a []) value =\n",
    "    let tree = createLookup someArray\n",
    "    lookup tree value\n",
    "    \n",
    "let cdfDifference a b = \n",
    "    let aLen = Array.length a |> float\n",
    "    let bLen = Array.length b |> float\n",
    "    Array.mapi (fun i e ->  findPosition a e \n",
    "                            |> fun s -> abs ( float(s)/aLen - float(i+1)/bLen) \n",
    "                            )  b\n",
    "\n",
    "let simplifiedKS s o =\n",
    "    let data1 = Array.sort s\n",
    "    let data2 = Array.sort o\n",
    "    let max1 = cdfDifference data1 data2 |> Array.max\n",
    "    let max2 = cdfDifference data2 data1 |> Array.max\n",
    "    if max1 > max2 then max1 else max2"
   ]
  },
  {
   "cell_type": "code",
   "execution_count": 23,
   "metadata": {},
   "outputs": [
    {
     "data": {
      "text/plain": [
       "Accord KS calculation\n",
       "Wall: 15605.594600ms CPU: 15468.750000ms\r\n",
       "Wall: 2766.512800ms CPU: 2765.625000ms\r\n",
       "Scipy KS calculation\n",
       "Wall: 705.291000ms CPU: 781.250000ms\r\n",
       "Wall: 451.462900ms CPU: 500.000000ms\r\n",
       "Local KS calculation\n",
       "Wall: 97879.194200ms CPU: 98640.625000ms\r\n",
       "Wall: 12467.006700ms CPU: 12468.750000ms\r\n"
      ]
     },
     "metadata": {},
     "output_type": "display_data"
    }
   ],
   "source": [
    "printf \"Accord KS calculation\\n\"\n",
    "timeIt <| fun _ -> ignore <| Array.init 100 (fun _ ->  distance ksSummStat measurements measurements)\n",
    "\n",
    "timeIt <| fun _ -> for i = 0 to 99 do\n",
    "                        ignore <| distance ksSummStat fakeData1.[i] fakeData2.[i]\n",
    "\n",
    "printf \"Scipy KS calculation\\n\"\n",
    "timeIt <| fun _ -> ignore <| Array.init 100 (fun _ ->  distance scipyKS measurements measurements)\n",
    "\n",
    "timeIt <| fun _ -> for i = 0 to 99 do\n",
    "                        ignore <| distance scipyKS fakeData1.[i] fakeData2.[i]\n",
    "\n",
    "printf \"Local KS calculation\\n\"\n",
    "timeIt <| fun _ -> ignore <| Array.init 100 (fun _ ->  distance simplifiedKS measurements measurements)\n",
    "\n",
    "timeIt <| fun _ -> for i = 0 to 99 do\n",
    "                        ignore <| distance simplifiedKS fakeData1.[i] fakeData2.[i]"
   ]
  },
  {
   "cell_type": "code",
   "execution_count": 24,
   "metadata": {},
   "outputs": [
    {
     "data": {
      "text/plain": [
       "Accord: 0.960469\n",
       "scipy:  0.960469\n",
       "Local:  0.960469\n"
      ]
     },
     "metadata": {},
     "output_type": "display_data"
    }
   ],
   "source": [
    "printf \"Accord: %f\\n\" <| ksSummStat measurements.[0] measurements.[1]\n",
    "printf \"scipy:  %f\\n\" <| scipyKS measurements.[0] measurements.[1]\n",
    "printf \"Local:  %f\\n\" <| simplifiedKS measurements.[0] measurements.[1]"
   ]
  },
  {
   "cell_type": "markdown",
   "metadata": {},
   "source": [
    "## Using inline (successfully)\n",
    "\n",
    "Simplifying the findPosition function gave us a relatively small speed up. The next thing we try is to use the inline keyword; this instructs the compiler/interpreter to spend extra time on compile to speed up the functions on running. The documentation suggests that it should be used as a last resort, but by using it librally makes the functions comparably fast to scipy."
   ]
  },
  {
   "cell_type": "code",
   "execution_count": 25,
   "metadata": {
    "collapsed": true
   },
   "outputs": [],
   "source": [
    "let inline findPosition (someArray: 'a []) value =\n",
    "    let rec find lower upper  =\n",
    "        if lower=upper then upper else\n",
    "            let div = (upper-lower)/2 + lower    \n",
    "            if someArray.[div] > value then find lower div \n",
    "            else find (div+1) upper \n",
    "    find 0 (Array.length someArray) \n",
    "    \n",
    "let inline cdfDifference a b = \n",
    "    let aLen = Array.length a |> float\n",
    "    let bLen = Array.length b |> float\n",
    "    Array.mapi (fun i e ->  findPosition a e \n",
    "                            |> fun s -> abs ( float(s)/aLen - float(i+1)/bLen) \n",
    "                            )  b\n",
    "\n",
    "let inline simplifiedKS s o =\n",
    "    let data1 = Array.sort s\n",
    "    let data2 = Array.sort o\n",
    "    let max1 = cdfDifference data1 data2 |> Array.max\n",
    "    let max2 = cdfDifference data2 data1 |> Array.max\n",
    "    if max1 > max2 then max1 else max2"
   ]
  },
  {
   "cell_type": "code",
   "execution_count": 26,
   "metadata": {},
   "outputs": [
    {
     "data": {
      "text/plain": [
       "Accord KS calculation\n",
       "Wall: 15529.717700ms CPU: 15546.875000ms\r\n",
       "Wall: 2762.428300ms CPU: 2734.375000ms\r\n",
       "Scipy KS calculation\n",
       "Wall: 802.641600ms CPU: 890.625000ms\r\n",
       "Wall: 497.312400ms CPU: 578.125000ms\r\n",
       "Local KS calculation\n",
       "Wall: 798.257600ms CPU: 984.375000ms\r\n",
       "Wall: 144.340900ms CPU: 203.125000ms\r\n"
      ]
     },
     "metadata": {},
     "output_type": "display_data"
    }
   ],
   "source": [
    "printf \"Accord KS calculation\\n\"\n",
    "timeIt <| fun _ -> ignore <| Array.init 100 (fun _ ->  distance ksSummStat measurements measurements)\n",
    "\n",
    "timeIt <| fun _ -> for i = 0 to 99 do\n",
    "                        ignore <| distance ksSummStat fakeData1.[i] fakeData2.[i]\n",
    "\n",
    "printf \"Scipy KS calculation\\n\"\n",
    "timeIt <| fun _ -> ignore <| Array.init 100 (fun _ ->  distance scipyKS measurements measurements)\n",
    "\n",
    "timeIt <| fun _ -> for i = 0 to 99 do\n",
    "                        ignore <| distance scipyKS fakeData1.[i] fakeData2.[i]\n",
    "\n",
    "printf \"Local KS calculation\\n\"\n",
    "timeIt <| fun _ -> ignore <| Array.init 100 (fun _ ->  distance simplifiedKS measurements measurements)\n",
    "\n",
    "timeIt <| fun _ -> for i = 0 to 99 do\n",
    "                        ignore <| distance simplifiedKS fakeData1.[i] fakeData2.[i]"
   ]
  },
  {
   "cell_type": "markdown",
   "metadata": {},
   "source": [
    "# Final modifications\n",
    "## Have the benchmarks stopped being useful?\n",
    "\n",
    "For one of our benchmarks the results are faster, one is slower but the function now is definitely comparable. The final modification we make is to replace the mapi/max operations with a single for loop, using a mutable. \n",
    "\n",
    "In other versions of the functions we passed an explict *compare* function to inlined functions, which has been known to improve performance specifically when using inline. We've left it out here as it slowed the functions down, but it may be worth testing in other code.\n",
    "\n",
    "We finally test outcomes with a slightly larger test set, confirming that all functions give the same outcome."
   ]
  },
  {
   "cell_type": "code",
   "execution_count": 27,
   "metadata": {
    "collapsed": true
   },
   "outputs": [],
   "source": [
    "let inline findPosition (someArray: _ []) value =\n",
    "    let rec find lower upper  =\n",
    "        if lower=upper then upper else\n",
    "            let div = (upper-lower)/2 + lower    \n",
    "            if someArray.[div] > value then find lower div \n",
    "            else find (div+1) upper \n",
    "    find 0 (Array.length someArray) \n",
    "    \n",
    "let inline cdfDifference a b = \n",
    "    let aLen = Array.length a |> float\n",
    "    let bLen = Array.length b |> float\n",
    "    let mutable max = 0.\n",
    "    for i = 0 to ((Array.length b)-1) do\n",
    "        let diff = findPosition a b.[i] |> fun s -> abs ( float(s)/aLen - float(i+1)/bLen) \n",
    "        if diff > max then max <- diff\n",
    "    max\n",
    "\n",
    "let inline simplifiedKS s o =\n",
    "    let data1 = Array.sort s\n",
    "    let data2 = Array.sort o\n",
    "    let max1 = cdfDifference data1 data2 \n",
    "    let max2 = cdfDifference data2 data1\n",
    "    if max1 > max2 then max1 else max2"
   ]
  },
  {
   "cell_type": "code",
   "execution_count": 28,
   "metadata": {},
   "outputs": [
    {
     "data": {
      "text/plain": [
       "Accord KS calculation\n",
       "Wall: 15574.136200ms CPU: 16109.375000ms\r\n",
       "Wall: 2753.079300ms CPU: 2750.000000ms\r\n",
       "Scipy KS calculation\n",
       "Wall: 697.065800ms CPU: 796.875000ms\r\n",
       "Wall: 581.966700ms CPU: 609.375000ms\r\n",
       "Local KS calculation\n",
       "Wall: 713.561400ms CPU: 875.000000ms\r\n",
       "Wall: 101.505200ms CPU: 156.250000ms\r\n"
      ]
     },
     "metadata": {},
     "output_type": "display_data"
    }
   ],
   "source": [
    "printf \"Accord KS calculation\\n\"\n",
    "timeIt <| fun _ -> ignore <| Array.init 100 (fun _ ->  distance ksSummStat measurements measurements)\n",
    "\n",
    "timeIt <| fun _ -> for i = 0 to 99 do\n",
    "                        ignore <| distance ksSummStat fakeData1.[i] fakeData2.[i]\n",
    "\n",
    "printf \"Scipy KS calculation\\n\"\n",
    "timeIt <| fun _ -> ignore <| Array.init 100 (fun _ ->  distance scipyKS measurements measurements)\n",
    "\n",
    "timeIt <| fun _ -> for i = 0 to 99 do\n",
    "                        ignore <| distance scipyKS fakeData1.[i] fakeData2.[i]\n",
    "\n",
    "printf \"Local KS calculation\\n\"\n",
    "timeIt <| fun _ -> ignore <| Array.init 100 (fun _ ->  distance simplifiedKS measurements measurements)\n",
    "\n",
    "timeIt <| fun _ -> for i = 0 to 99 do\n",
    "                        ignore <| distance simplifiedKS fakeData1.[i] fakeData2.[i]"
   ]
  },
  {
   "cell_type": "code",
   "execution_count": 29,
   "metadata": {},
   "outputs": [
    {
     "data": {
      "text/plain": [
       "Accord: 0.960469\n",
       "scipy:  0.960469\n",
       "Local:  0.960469\n",
       "New test\n",
       "Accord: 0.762915\n",
       "scipy:  0.762915\n",
       "Local:  0.762915\n",
       "New test\n",
       "Accord: 0.997738\n",
       "scipy:  0.997738\n",
       "Local:  0.997738\n",
       "New test\n",
       "Accord: 0.960469\n",
       "scipy:  0.960469\n",
       "Local:  0.960469\n",
       "New test\n",
       "Accord: 0.997738\n",
       "scipy:  0.997738\n",
       "Local:  0.997738\n"
      ]
     },
     "metadata": {},
     "output_type": "display_data"
    }
   ],
   "source": [
    "printf \"Accord: %f\\n\" <| ksSummStat measurements.[0] measurements.[1]\n",
    "printf \"scipy:  %f\\n\" <| scipyKS measurements.[0] measurements.[1]\n",
    "printf \"Local:  %f\\n\" <| simplifiedKS measurements.[0] measurements.[1]\n",
    "printf \"New test\\n\"\n",
    "printf \"Accord: %f\\n\" <| ksSummStat measurements.[2] measurements.[1]\n",
    "printf \"scipy:  %f\\n\" <| scipyKS measurements.[2] measurements.[1]\n",
    "printf \"Local:  %f\\n\" <| simplifiedKS measurements.[2] measurements.[1]\n",
    "printf \"New test\\n\"\n",
    "printf \"Accord: %f\\n\" <| ksSummStat measurements.[0] measurements.[2]\n",
    "printf \"scipy:  %f\\n\" <| scipyKS measurements.[0] measurements.[2]\n",
    "printf \"Local:  %f\\n\" <| simplifiedKS measurements.[0] measurements.[2]\n",
    "printf \"New test\\n\"\n",
    "printf \"Accord: %f\\n\" <| ksSummStat measurements.[1] measurements.[0]\n",
    "printf \"scipy:  %f\\n\" <| scipyKS measurements.[1] measurements.[0]\n",
    "printf \"Local:  %f\\n\" <| simplifiedKS measurements.[1] measurements.[0]\n",
    "printf \"New test\\n\"\n",
    "printf \"Accord: %f\\n\" <| ksSummStat measurements.[2] measurements.[0]\n",
    "printf \"scipy:  %f\\n\" <| scipyKS measurements.[2] measurements.[0]\n",
    "printf \"Local:  %f\\n\" <| simplifiedKS measurements.[2] measurements.[0]"
   ]
  },
  {
   "cell_type": "markdown",
   "metadata": {},
   "source": [
    "# More realistic benchmarks\n",
    "\n",
    "The results are positive, but given the small change difference between our benchmark sets the fear might be that they are unnatural and further optimisation might mislead us. To get more realistic results below we have taken a minimal set of functions from the [main notebook](FSharpSimulator.ipynb) and timed both a set of particle searches, and the relative time taken on calculating distance."
   ]
  },
  {
   "cell_type": "code",
   "execution_count": 30,
   "metadata": {
    "collapsed": true
   },
   "outputs": [],
   "source": [
    "let gamma mean shape rng =\n",
    "    let invscale = shape/mean\n",
    "    fun _ -> MathNet.Numerics.Distributions.Gamma.Sample(rng, shape, invscale)\n",
    "    \n",
    "let gammaDelay delay mean shape rng = \n",
    "    let gFunc = gamma (mean-delay) shape rng\n",
    "    fun _ -> delay + (gFunc ())\n",
    "    \n",
    "let gammaFracDelay fracDelay mean shape rng = \n",
    "    //Expressing the delay as a fraction of the mean might be a better way..\n",
    "    let delay = mean*fracDelay\n",
    "    gammaDelay delay mean shape rng\n",
    "    \n",
    "let noNoise =\n",
    "    fun _ -> 0.\n",
    "    \n",
    "let piedrafitaNoise (rng: System.Random) =\n",
    "    let sqrt12 = 12.**0.5\n",
    "    fun _ -> (rng.NextDouble()-0.5)*0.06*sqrt12\n",
    "    //noiseTerms = np.random.uniform(-0.5,0.5,n)*math.sqrt(12)*0.06\n",
    "\n",
    "let randomSample (rng: System.Random) (a: 'a []) =\n",
    "    //Randomly select and return an element of the input array\n",
    "    a.[rng.Next((Array.length a))]\n",
    "\n",
    "let invertedWeightRandomSample (rng: System.Random) weights (a: 'a []) =\n",
    "    //Input will be distances-> big distances are worse\n",
    "    //The weight/probability relationship is therefore assumed to be smaller -> more probable\n",
    "    //Invert the weights, normalise, and convert to a cdf\n",
    "    let invertedW = Array.map (fun i -> 1./i) weights\n",
    "    let total = Array.sum invertedW\n",
    "    //let prob = Array.map (fun i -> i/total) invertedW\n",
    "    //printf \"Probability\\n%A\\n\" prob\n",
    "    let cdf = Array.scan (fun totalP i -> totalP+(i/total) ) 0. invertedW\n",
    "    //printf \"CDF\\n%A\\n\" cdf\n",
    "    fun _ ->\n",
    "        let num = rng.NextDouble()\n",
    "        Array.findIndex (fun p -> p>num) cdf\n",
    "        |> fun i -> a.[i-1]\n",
    "\n",
    "let weightedRandomSample (rng: System.Random) weights (a: 'a []) =\n",
    "    //Input will be likelihoods-> big likelihoods are better\n",
    "    //Take the weights, normalise, and convert to a cdf\n",
    "    let total = Array.sum weights\n",
    "    let cdf = Array.scan (fun totalP i -> totalP+(i/total) ) 0. weights\n",
    "    fun _ ->\n",
    "        let num = rng.NextDouble()\n",
    "        Array.findIndex (fun p -> p>num) cdf\n",
    "        |> fun i -> a.[i-1]\n",
    "\n",
    "let rec diluteEngine maxtime div noise times dilutions lasttime label =\n",
    "    if lasttime > maxtime then \n",
    "        List.map2 (fun t d -> (t,d)) (lasttime::times) (label::dilutions) |> List.rev\n",
    "    else\n",
    "        let dt = div ()\n",
    "        let lasttime' = lasttime + dt\n",
    "        let dLabel = 0.5 + (noise ())\n",
    "        let label' = dLabel*label\n",
    "        diluteEngine maxtime div noise (lasttime::times) (label::dilutions) lasttime' label'\n",
    "\n",
    "let rec findObservation timePoints simulation acc prevDilution =\n",
    "    match timePoints, simulation with\n",
    "    | [],_ -> List.rev acc //all done\n",
    "    | _, [] -> failwith \"Run out of simulations\"\n",
    "    | t'::otherTimes, (simTime,d)::otherMeasurements -> \n",
    "        if simTime > t' then\n",
    "            //The next timepoint has past- return the *previous* dilution\n",
    "            let pDil = match prevDilution with\n",
    "                        | Some(oldD) -> oldD\n",
    "                        | None -> failwith \"Requested timepoint occurs before t=0\"\n",
    "            //How many timepoints have passed? Need to count the timepoints and add the previous label that number of times\n",
    "            //let acc', remainingTime = peek otherTimes t' (pDil::acc) pDil\n",
    "            findObservation otherTimes simulation (pDil::acc) prevDilution\n",
    "        else \n",
    "            //timepoint has not arrived, move on\n",
    "            findObservation timePoints otherMeasurements acc (Some(d))\n",
    "            \n",
    "let dilution noise div (rng: System.Random) timePoints initialLabel randomiseTime1 = \n",
    "    let lastTime = List.max timePoints\n",
    "    let experiment = if randomiseTime1 then\n",
    "                        //randomise the initial timepoint\n",
    "                        let t1 = ( div () ) * rng.NextDouble()\n",
    "                        let dLabel = (+) 0.5 <| noise ()\n",
    "                        let label = randomSample rng initialLabel\n",
    "                        let label' = dLabel* label\n",
    "                        diluteEngine lastTime div noise [0.] [label] t1 label'\n",
    "                     else\n",
    "                         //don't bother\n",
    "                         diluteEngine lastTime div noise [] [] 0. <| randomSample rng initialLabel\n",
    "    //for e in experiment do\n",
    "        //let t,d = e\n",
    "        //printf \"%f\\t%f\\n\" t (Math.Log(d,2.))\n",
    "    try\n",
    "        findObservation timePoints experiment [] None |> Array.ofList\n",
    "    with\n",
    "        | Failure msg -> failwithf \"%s\\n%A\\n\" msg experiment\n",
    "\n",
    "let dilutionExperiment noise div rng timePoints initialLabel sampleSize randomInit =\n",
    "        Array.init sampleSize <| fun _ -> dilution noise div rng timePoints initialLabel randomInit\n",
    "\n",
    "let transpose (a: 'a [] []) = \n",
    "    let x,y = ((Array.length a), (Array.length a.[0]))\n",
    "    Array.init y (fun yi -> Array.init x (fun xi -> a.[xi].[yi]))\n",
    "\n",
    "let uniformPrior min max (rng: System.Random) =\n",
    "    fun _ -> min + (max-min)*rng.NextDouble()\n",
    "    \n",
    "type modelRange =\n",
    "    {\n",
    "    fracMax : float\n",
    "    fracMin : float\n",
    "    shapeMax : float\n",
    "    shapeMin : float\n",
    "    }\n",
    "\n",
    "type modelPriors = \n",
    "    {\n",
    "    fracDelay : unit->float\n",
    "    log2Shape : unit->float\n",
    "    }\n",
    "\n",
    "let rangeToPrior r rng =\n",
    "    {\n",
    "    fracDelay = uniformPrior r.fracMin r.fracMax rng\n",
    "    log2Shape = uniformPrior r.shapeMin r.shapeMax rng\n",
    "    }\n",
    "\n",
    "type modelSelection =\n",
    "    {\n",
    "    fracDelaySel : float\n",
    "    log2ShapeSel : float\n",
    "    }\n",
    "\n",
    "type modelFixed = \n",
    "    {\n",
    "    mean : float\n",
    "    initialLabel : float []\n",
    "    noise : System.Random -> unit -> float\n",
    "    sampleSize : int\n",
    "    timePoints : float list\n",
    "    rng : System.Random\n",
    "    unknownRanges : modelRange\n",
    "    randomiseInit : bool\n",
    "    }\n",
    "\n",
    "let modelInterface fixPa priors spareRng = \n",
    "    let rng = match spareRng with \n",
    "              | Some(r) ->r\n",
    "              | None -> fixPa.rng\n",
    "    let delay = priors.fracDelay ()\n",
    "    let log2Shape = priors.log2Shape ()\n",
    "    let selection = {fracDelaySel=delay;log2ShapeSel=log2Shape}\n",
    "    let div = gammaFracDelay delay fixPa.mean (2.**log2Shape) rng\n",
    "    let noise = fixPa.noise rng\n",
    "    let result = dilutionExperiment noise div rng fixPa.timePoints fixPa.initialLabel fixPa.sampleSize fixPa.randomiseInit\n",
    "                    |> Array.map (fun m -> Array.map (fun i -> Math.Log(i,2.) ) m)\n",
    "    (selection,(transpose result))\n",
    "    \n",
    "let modelInterfaceParticle fixPa rng p  = \n",
    "    let noise = fixPa.noise rng\n",
    "    let div = gammaFracDelay p.fracDelaySel fixPa.mean (2.**p.log2ShapeSel) rng\n",
    "    let result = dilutionExperiment noise div rng fixPa.timePoints fixPa.initialLabel fixPa.sampleSize fixPa.randomiseInit\n",
    "                    |> Array.map (fun m -> Array.map (fun i -> Math.Log(i,2.) ) m)\n",
    "    (p,(transpose result)) \n",
    "\n",
    "let ksSummStat s o =\n",
    "    Accord.Statistics.Testing.TwoSampleKolmogorovSmirnovTest(s,o).Statistic\n",
    "    \n",
    "let quantileSummStat q s o =\n",
    "    let sq = Accord.Statistics.Measures.Quantiles(s,q)\n",
    "    let oq = Accord.Statistics.Measures.Quantiles(o,q)\n",
    "    Array.map2 (fun a b -> abs(a-b)) sq oq\n",
    "    |> Array.sum\n",
    "\n",
    "let distance (summStat: 'a [] -> 'a [] -> float) sim measurements = \n",
    "    Array.map2 (fun s o -> summStat s o )  sim measurements\n",
    "    |> Array.sum\n",
    "\n",
    "type Space = Global | Local of float\n",
    "\n",
    "type inference = {  populations : int\n",
    "                    popSize : int\n",
    "                    maxAttempts : int\n",
    "                    epsilonMultiplier : float\n",
    "                    summaryStatistic : float [] -> float [] -> float\n",
    "                    transition : Space\n",
    "                    weightPreviousPopulation : bool //Weight previous population by distance to speed up search\n",
    "                    initialEpsilon : float option\n",
    "                    }\n",
    "\n",
    "//Threadsafe bool object for checking other results\n",
    "type tsBool() =\n",
    "    let v = ref 0\n",
    "    member this.contents with \n",
    "                                get() = (System.Threading.Interlocked.CompareExchange(v, 1, 1) = 1) \n",
    "                                and set(value:bool) = if value then\n",
    "                                                            ignore( System.Threading.Interlocked.CompareExchange(v, 1, 0) )\n",
    "                                                        else \n",
    "                                                            ignore( System.Threading.Interlocked.CompareExchange(v, 0, 1) )\n",
    "                                                            \n",
    "let randomWalk particles rng =\n",
    "    let samples = Array.map (fun c -> [|c.fracDelaySel;c.log2ShapeSel|]) particles\n",
    "    let kernel = new Accord.Statistics.Distributions.DensityKernels.GaussianKernel(2)\n",
    "    let dist = new Accord.Statistics.Distributions.Multivariate.MultivariateEmpiricalDistribution(kernel, samples)\n",
    "    let cov = dist.Covariance\n",
    "    let cho = new Accord.Math.Decompositions.CholeskyDecomposition(cov)\n",
    "    let L =     cho.LeftTriangularFactor\n",
    "    //cho.LeftTriangularFactor\n",
    "    fun _ ->\n",
    "        let rand = Array.init 2 (fun _ -> MathNet.Numerics.Distributions.Normal.Sample(rng,0.,1.) )\n",
    "        [| \n",
    "            L.[0,0] * rand.[0] + L.[0,1] * rand.[1] ;\n",
    "            L.[1,0] * rand.[0] + L.[1,1] * rand.[1]\n",
    "            |]\n",
    "\n",
    "let getLocalCov number all particle =\n",
    "    let neighbours = Array.sortBy (fun p -> (pown (p.fracDelaySel-particle.fracDelaySel) 2) + (pown (p.log2ShapeSel-particle.log2ShapeSel) 2) ) all\n",
    "                     |> fun sortedNeighbours -> Array.init number (fun i -> sortedNeighbours.[i])\n",
    "    let samples = Array.map (fun c -> [|c.fracDelaySel;c.log2ShapeSel|]) neighbours\n",
    "    let kernel = new Accord.Statistics.Distributions.DensityKernels.GaussianKernel(2)\n",
    "    let dist = new Accord.Statistics.Distributions.Multivariate.MultivariateEmpiricalDistribution(kernel, samples)\n",
    "    let cov = dist.Covariance\n",
    "    let cho = new Accord.Math.Decompositions.CholeskyDecomposition(cov)\n",
    "    particle.ToString(), cho.LeftTriangularFactor\n",
    "\n",
    "let localRandomWalk populationFraction particles rng =\n",
    "    //Find the nearest neighbours for each particle\n",
    "    let numberNeighbours = float(Array.length particles) * populationFraction |> int\n",
    "    let local = getLocalCov numberNeighbours particles\n",
    "    let environments = Array.map local particles\n",
    "    let dict = new System.Collections.Generic.Dictionary<string,float[,]>()\n",
    "    Array.iter (fun i -> dict.Add(i) ) environments\n",
    "    fun p ->\n",
    "        match dict.TryGetValue p with\n",
    "        | false, _ -> failwithf \"Particle %s not in original population\" p\n",
    "        | true, L ->    let rand = Array.init 2 (fun _ -> MathNet.Numerics.Distributions.Normal.Sample(rng,0.,1.) )\n",
    "                        [| \n",
    "                        L.[0,0] * rand.[0] + L.[0,1] * rand.[1] ;\n",
    "                        L.[1,0] * rand.[0] + L.[1,1] * rand.[1]\n",
    "                        |]\n",
    "\n",
    "let kdeWeights particles =\n",
    "    let samples = Array.map (fun c -> [|c.fracDelaySel;c.log2ShapeSel|]) particles\n",
    "    let kernel = new Accord.Statistics.Distributions.DensityKernels.GaussianKernel(2)\n",
    "    let dist = new Accord.Statistics.Distributions.Multivariate.MultivariateEmpiricalDistribution(kernel, samples)\n",
    "    Array.map (fun value -> dist.ProbabilityDensityFunction(value)) samples\n",
    "\n",
    "let perturb inputRanges (walk: string->float[]) particle =\n",
    "    let randWalk = walk (particle.ToString())\n",
    "    let dDelay = \n",
    "        let r = randWalk.[0] + particle.fracDelaySel\n",
    "        //MathNet.Numerics.Distributions.Normal.Sample(particle.fracDelaySel,)\n",
    "        if r > inputRanges.fracMax then 2.*inputRanges.fracMax-r\n",
    "        elif r < inputRanges.fracMin then 2.*inputRanges.fracMin-r\n",
    "        else r\n",
    "    let dShape = \n",
    "        let r = randWalk.[1] + particle.log2ShapeSel\n",
    "        if r > inputRanges.shapeMax then 2.*inputRanges.shapeMax-r\n",
    "        elif r < inputRanges.shapeMin then 2.*inputRanges.shapeMin-r\n",
    "        else r\n",
    "    {particle with \n",
    "        fracDelaySel=dDelay; \n",
    "        log2ShapeSel=dShape;\n",
    "        }\n",
    "\n",
    "let rec findParticleTime lineTime (failedPrevious: tsBool) previousPopulation walk selectFunc eps fixPa infP attempts spareRng=\n",
    "   if failedPrevious.contents then None else\n",
    "       let rng = match spareRng with\n",
    "                   | Some(r) -> r\n",
    "                   | None -> fixPa.rng\n",
    "       if attempts = infP.maxAttempts then\n",
    "           sprintf \"findParticle had too many attempts to finish\\n\" |> Display\n",
    "           failedPrevious.contents <- true\n",
    "           None\n",
    "       else\n",
    "           //Picking\n",
    "           let pi = selectFunc previousPopulation |> perturb fixPa.unknownRanges walk\n",
    "           //let p,d = selectFunc previousPopulation\n",
    "                       //|> perturb fixPa.unknownRanges 0.5 0.5 rng\n",
    "           //Simulation\n",
    "           let p,sim = modelInterfaceParticle fixPa rng pi\n",
    "           let d = timeStore lineTime (fun _ -> distance infP.summaryStatistic sim measurements)\n",
    "\n",
    "           if d < eps then Some(p,d) else findParticleTime lineTime failedPrevious previousPopulation walk selectFunc eps fixPa infP (attempts+1) spareRng\n"
   ]
  },
  {
   "cell_type": "code",
   "execution_count": 31,
   "metadata": {},
   "outputs": [
    {
     "data": {
      "text/plain": [
       "\"findParticle had too many attempts to finish\n",
       "\""
      ]
     },
     "metadata": {},
     "output_type": "display_data"
    },
    {
     "data": {
      "text/plain": [
       "Wall: 102041.012900ms CPU: 102125.000000ms\r\n",
       "Time spent measuring distances = 99553.950000ms\n"
      ]
     },
     "metadata": {},
     "output_type": "display_data"
    }
   ],
   "source": [
    "let rng = System.Random(1982)\n",
    "let searchRange = \n",
    "    {\n",
    "        fracMin = 0.\n",
    "        fracMax = 1.\n",
    "        shapeMin = 0.\n",
    "        shapeMax = 6.\n",
    "    }\n",
    " \n",
    "let fixedParameters =\n",
    "    {\n",
    "        mean = (7./3.);\n",
    "        initialLabel = i0;\n",
    "        noise = piedrafitaNoise \n",
    "        sampleSize = 1000\n",
    "        timePoints = [7.;12.;18.]\n",
    "        rng = rng\n",
    "        unknownRanges=searchRange\n",
    "        randomiseInit = true\n",
    "    }\n",
    "\n",
    "let fail = tsBool()\n",
    "let lineTime = ref 0.\n",
    "let inferenceP =     { \n",
    "        populations = 4; //4 works\n",
    "        popSize = 200; //50 works\n",
    "        maxAttempts = 1000; //1000 for benchmakrs\n",
    "        epsilonMultiplier = 0.98 //0.99 works\n",
    "        summaryStatistic = ksSummStat//quantileSummStat [|0.025;0.25;0.5;0.75;0.975|]\n",
    "        transition = Global \n",
    "        weightPreviousPopulation = false\n",
    "        initialEpsilon = Some(0.5)\n",
    "    }\n",
    "let selectFunc r =    let priors = rangeToPrior fixedParameters.unknownRanges r\n",
    "                      let delay = priors.fracDelay ()\n",
    "                      let log2Shape = priors.log2Shape ()\n",
    "                      fun _  -> {fracDelaySel=delay;log2ShapeSel=log2Shape}\n",
    "let walk = fun _ -> [|0.;0.|]\n",
    "let makePop = fun r -> findParticleTime lineTime fail () walk (selectFunc r) 0.5 fixedParameters inferenceP 0 (Some(r))\n",
    "let ip = timeIt (fun _ -> makePop (System.Random(1887)) )\n",
    "printf \"Time spent measuring distances = %fms\\n\" !lineTime"
   ]
  },
  {
   "cell_type": "code",
   "execution_count": 32,
   "metadata": {},
   "outputs": [
    {
     "data": {
      "text/plain": [
       "\"findParticle had too many attempts to finish\n",
       "\""
      ]
     },
     "metadata": {},
     "output_type": "display_data"
    },
    {
     "data": {
      "text/plain": [
       "Wall: 41478.051200ms CPU: 44484.375000ms\r\n",
       "Time spent measuring distances = 8515.797600ms\n"
      ]
     },
     "metadata": {},
     "output_type": "display_data"
    }
   ],
   "source": [
    "let rng = System.Random(1982)\n",
    "let searchRange = \n",
    "    {\n",
    "        fracMin = 0.\n",
    "        fracMax = 1.\n",
    "        shapeMin = 0.\n",
    "        shapeMax = 6.\n",
    "    }\n",
    " \n",
    "let fixedParameters =\n",
    "    {\n",
    "        mean = (7./3.);\n",
    "        initialLabel = i0;\n",
    "        noise = piedrafitaNoise \n",
    "        sampleSize = 1000\n",
    "        timePoints = [7.;12.;18.]\n",
    "        rng = rng\n",
    "        unknownRanges=searchRange\n",
    "        randomiseInit = true\n",
    "    }\n",
    "\n",
    "let fail = tsBool()\n",
    "let lineTime = ref 0.\n",
    "let inferenceP =     { \n",
    "        populations = 4; //4 works\n",
    "        popSize = 200; //50 works\n",
    "        maxAttempts = 1000; //1000 for benchmakrs\n",
    "        epsilonMultiplier = 0.98 //0.99 works\n",
    "        summaryStatistic = scipyKS//quantileSummStat [|0.025;0.25;0.5;0.75;0.975|]\n",
    "        transition = Global \n",
    "        weightPreviousPopulation = false\n",
    "        initialEpsilon = Some(0.5)\n",
    "    }\n",
    "let selectFunc r =    let priors = rangeToPrior fixedParameters.unknownRanges r\n",
    "                      let delay = priors.fracDelay ()\n",
    "                      let log2Shape = priors.log2Shape ()\n",
    "                      fun _  -> {fracDelaySel=delay;log2ShapeSel=log2Shape}\n",
    "let walk = fun _ -> [|0.;0.|]\n",
    "let makePop = fun r -> findParticleTime lineTime fail () walk (selectFunc r) 0.5 fixedParameters inferenceP 0 (Some(r))\n",
    "let ip = timeIt (fun _ -> makePop (System.Random(1887)) )\n",
    "printf \"Time spent measuring distances = %fms\\n\" !lineTime"
   ]
  },
  {
   "cell_type": "code",
   "execution_count": 33,
   "metadata": {},
   "outputs": [
    {
     "data": {
      "text/plain": [
       "\"findParticle had too many attempts to finish\n",
       "\""
      ]
     },
     "metadata": {},
     "output_type": "display_data"
    },
    {
     "data": {
      "text/plain": [
       "Wall: 18675.888400ms CPU: 20265.625000ms\r\n",
       "Time spent measuring distances = 1093.701300ms\n"
      ]
     },
     "metadata": {},
     "output_type": "display_data"
    }
   ],
   "source": [
    "let rng = System.Random(1982)\n",
    "let searchRange = \n",
    "    {\n",
    "        fracMin = 0.\n",
    "        fracMax = 1.\n",
    "        shapeMin = 0.\n",
    "        shapeMax = 6.\n",
    "    }\n",
    " \n",
    "let fixedParameters =\n",
    "    {\n",
    "        mean = (7./3.);\n",
    "        initialLabel = i0;\n",
    "        noise = piedrafitaNoise \n",
    "        sampleSize = 1000\n",
    "        timePoints = [7.;12.;18.]\n",
    "        rng = rng\n",
    "        unknownRanges=searchRange\n",
    "        randomiseInit = true\n",
    "    }\n",
    "\n",
    "let fail = tsBool()\n",
    "let lineTime = ref 0.\n",
    "let inferenceP =     { \n",
    "        populations = 4; //4 works\n",
    "        popSize = 200; //50 works\n",
    "        maxAttempts = 1000; //1000 for benchmakrs\n",
    "        epsilonMultiplier = 0.98 //0.99 works\n",
    "        summaryStatistic = simplifiedKS//quantileSummStat [|0.025;0.25;0.5;0.75;0.975|]\n",
    "        transition = Global \n",
    "        weightPreviousPopulation = false\n",
    "        initialEpsilon = Some(0.5)\n",
    "    }\n",
    "let selectFunc r =    let priors = rangeToPrior fixedParameters.unknownRanges r\n",
    "                      let delay = priors.fracDelay ()\n",
    "                      let log2Shape = priors.log2Shape ()\n",
    "                      fun _  -> {fracDelaySel=delay;log2ShapeSel=log2Shape}\n",
    "let walk = fun _ -> [|0.;0.|]\n",
    "let makePop = fun r -> findParticleTime lineTime fail () walk (selectFunc r) 0.5 fixedParameters inferenceP 0 (Some(r))\n",
    "let ip = timeIt (fun _ -> makePop (System.Random(1887)) )\n",
    "printf \"Time spent measuring distances = %fms\\n\" !lineTime"
   ]
  },
  {
   "cell_type": "markdown",
   "metadata": {},
   "source": [
    "# Conclusions\n",
    "\n",
    "Identifying one specific function in our workflow and optimising made a massive difference to performance. Simple modifications to the code, tested at each point allowed us to write substantially faster code eventually. This was further improved by using the *inline* keyword to move work to the compiler/interpreter and away from individual runs."
   ]
  },
  {
   "cell_type": "code",
   "execution_count": null,
   "metadata": {
    "collapsed": true
   },
   "outputs": [],
   "source": []
  },
  {
   "cell_type": "code",
   "execution_count": null,
   "metadata": {
    "collapsed": true
   },
   "outputs": [],
   "source": []
  }
 ],
 "metadata": {
  "kernelspec": {
   "display_name": "F#",
   "language": "fsharp",
   "name": "ifsharp"
  },
  "language": "fsharp",
  "language_info": {
   "codemirror_mode": "",
   "file_extension": ".fs",
   "mimetype": "text/x-fsharp",
   "name": "fsharp",
   "nbconvert_exporter": "",
   "pygments_lexer": "",
   "version": "4.3.1.0"
  }
 },
 "nbformat": 4,
 "nbformat_minor": 2
}
